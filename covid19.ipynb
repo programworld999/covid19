{
 "cells": [
  {
   "cell_type": "code",
   "execution_count": 1,
   "metadata": {},
   "outputs": [],
   "source": [
    "import os\n",
    "import requests\n",
    "from bs4 import BeautifulSoup as BS\n",
    "import json"
   ]
  },
  {
   "cell_type": "code",
   "execution_count": 2,
   "metadata": {},
   "outputs": [],
   "source": [
    "url = \"https://ncov.dxy.cn/ncovh5/view/en_pneumonia?from=dxy&source=&link=&share=\"\n",
    "page = requests.get(url)"
   ]
  },
  {
   "cell_type": "code",
   "execution_count": 3,
   "metadata": {},
   "outputs": [],
   "source": [
    "soup = BS(page.content, 'html.parser')\n",
    "ByCountry = soup.find('script', attrs = {'id':'getListByCountryTypeService2true'})"
   ]
  },
  {
   "cell_type": "code",
   "execution_count": 4,
   "metadata": {},
   "outputs": [],
   "source": [
    "ByCountry = ByCountry.text[48:]\n",
    "ByCountry = ByCountry[:-11]"
   ]
  },
  {
   "cell_type": "code",
   "execution_count": 5,
   "metadata": {},
   "outputs": [],
   "source": [
    "ByCountry = str(ByCountry)\n",
    "ByCountry = ByCountry.replace(\"Syrian\\xa0ArabRepublic\", \"Syrian Arab Republic\")\n",
    "ByCountry = ByCountry.replace(\"'\", '\"')\n",
    "ByCountry = json.loads(ByCountry)"
   ]
  },
  {
   "cell_type": "code",
   "execution_count": 6,
   "metadata": {},
   "outputs": [],
   "source": [
    "globalData = soup.find('script', attrs = {'id':'getStatisticsService'})\n",
    "\n",
    "globalData = globalData.text[36:]\n",
    "globalData = globalData[:-11]\n",
    "globalData = json.loads(str(globalData))"
   ]
  },
  {
   "cell_type": "code",
   "execution_count": 7,
   "metadata": {},
   "outputs": [
    {
     "name": "stdout",
     "output_type": "stream",
     "text": [
      "World Wide: Confirmed:  367151 | Active:  250938 | Death:  16166 | Recovered:  100047\n"
     ]
    }
   ],
   "source": [
    "globalStatistics = globalData[\"globalStatistics\"]\n",
    "print(\"World Wide: Confirmed: \", globalStatistics['confirmedCount'], \"| Active: \", globalStatistics['currentConfirmedCount'], \"| Death: \", globalStatistics['deadCount'], \"| Recovered: \", globalStatistics['curedCount'])"
   ]
  },
  {
   "cell_type": "code",
   "execution_count": 8,
   "metadata": {
    "scrolled": true
   },
   "outputs": [
    {
     "name": "stdout",
     "output_type": "stream",
     "text": [
      "Italy : \u001b[1;33;40m Confirmed:  63927 \u001b[0m|\u001b[1;35;40m Active:  50418 \u001b[0m|\u001b[0;37;41m Death:  6077 \u001b[0m|\u001b[1;32;40m Recovered:  7432 \u001b[0m\n",
      "United States of America : \u001b[1;33;40m Confirmed:  40910 \u001b[0m|\u001b[1;35;40m Active:  40247 \u001b[0m|\u001b[0;37;41m Death:  485 \u001b[0m|\u001b[1;32;40m Recovered:  178 \u001b[0m\n",
      "Spain : \u001b[1;33;40m Confirmed:  33089 \u001b[0m|\u001b[1;35;40m Active:  27552 \u001b[0m|\u001b[0;37;41m Death:  2182 \u001b[0m|\u001b[1;32;40m Recovered:  3355 \u001b[0m\n",
      "Germany : \u001b[1;33;40m Confirmed:  27289 \u001b[0m|\u001b[1;35;40m Active:  26752 \u001b[0m|\u001b[0;37;41m Death:  115 \u001b[0m|\u001b[1;32;40m Recovered:  422 \u001b[0m\n",
      "France : \u001b[1;33;40m Confirmed:  19856 \u001b[0m|\u001b[1;35;40m Active:  16796 \u001b[0m|\u001b[0;37;41m Death:  860 \u001b[0m|\u001b[1;32;40m Recovered:  2200 \u001b[0m\n",
      "Iran (Islamic Republic of) : \u001b[1;33;40m Confirmed:  23049 \u001b[0m|\u001b[1;35;40m Active:  13324 \u001b[0m|\u001b[0;37;41m Death:  1812 \u001b[0m|\u001b[1;32;40m Recovered:  7913 \u001b[0m\n",
      "Switzerland : \u001b[1;33;40m Confirmed:  8060 \u001b[0m|\u001b[1;35;40m Active:  7991 \u001b[0m|\u001b[0;37;41m Death:  66 \u001b[0m|\u001b[1;32;40m Recovered:  3 \u001b[0m\n",
      "The United Kingdom : \u001b[1;33;40m Confirmed:  6650 \u001b[0m|\u001b[1;35;40m Active:  6180 \u001b[0m|\u001b[0;37;41m Death:  335 \u001b[0m|\u001b[1;32;40m Recovered:  135 \u001b[0m\n",
      "Republic of Korea : \u001b[1;33;40m Confirmed:  8961 \u001b[0m|\u001b[1;35;40m Active:  5684 \u001b[0m|\u001b[0;37;41m Death:  111 \u001b[0m|\u001b[1;32;40m Recovered:  3166 \u001b[0m\n",
      "China : \u001b[1;33;40m Confirmed:  81691 \u001b[0m|\u001b[1;35;40m Active:  5567 \u001b[0m|\u001b[0;37;41m Death:  3276 \u001b[0m|\u001b[1;32;40m Recovered:  72848 \u001b[0m\n",
      "Netherlands : \u001b[1;33;40m Confirmed:  4797 \u001b[0m|\u001b[1;35;40m Active:  4584 \u001b[0m|\u001b[0;37;41m Death:  213 \u001b[0m|\u001b[1;32;40m Recovered:  0 \u001b[0m\n",
      "Austria : \u001b[1;33;40m Confirmed:  3611 \u001b[0m|\u001b[1;35;40m Active:  3586 \u001b[0m|\u001b[0;37;41m Death:  16 \u001b[0m|\u001b[1;32;40m Recovered:  9 \u001b[0m\n",
      "Belgium : \u001b[1;33;40m Confirmed:  3743 \u001b[0m|\u001b[1;35;40m Active:  3305 \u001b[0m|\u001b[0;37;41m Death:  88 \u001b[0m|\u001b[1;32;40m Recovered:  350 \u001b[0m\n",
      "Norway : \u001b[1;33;40m Confirmed:  2532 \u001b[0m|\u001b[1;35;40m Active:  2524 \u001b[0m|\u001b[0;37;41m Death:  8 \u001b[0m|\u001b[1;32;40m Recovered:  0 \u001b[0m\n",
      "Portugal : \u001b[1;33;40m Confirmed:  2060 \u001b[0m|\u001b[1;35;40m Active:  2023 \u001b[0m|\u001b[0;37;41m Death:  23 \u001b[0m|\u001b[1;32;40m Recovered:  14 \u001b[0m\n",
      "Canada : \u001b[1;33;40m Confirmed:  2007 \u001b[0m|\u001b[1;35;40m Active:  1969 \u001b[0m|\u001b[0;37;41m Death:  24 \u001b[0m|\u001b[1;32;40m Recovered:  14 \u001b[0m\n",
      "Sweden : \u001b[1;33;40m Confirmed:  1929 \u001b[0m|\u001b[1;35;40m Active:  1889 \u001b[0m|\u001b[0;37;41m Death:  23 \u001b[0m|\u001b[1;32;40m Recovered:  17 \u001b[0m\n",
      "Australia : \u001b[1;33;40m Confirmed:  1709 \u001b[0m|\u001b[1;35;40m Active:  1675 \u001b[0m|\u001b[0;37;41m Death:  7 \u001b[0m|\u001b[1;32;40m Recovered:  27 \u001b[0m\n",
      "Brazil : \u001b[1;33;40m Confirmed:  1546 \u001b[0m|\u001b[1;35;40m Active:  1521 \u001b[0m|\u001b[0;37;41m Death:  25 \u001b[0m|\u001b[1;32;40m Recovered:  0 \u001b[0m\n",
      "Denmark : \u001b[1;33;40m Confirmed:  1450 \u001b[0m|\u001b[1;35;40m Active:  1436 \u001b[0m|\u001b[0;37;41m Death:  13 \u001b[0m|\u001b[1;32;40m Recovered:  1 \u001b[0m\n",
      "Malaysia : \u001b[1;33;40m Confirmed:  1518 \u001b[0m|\u001b[1;35;40m Active:  1365 \u001b[0m|\u001b[0;37;41m Death:  14 \u001b[0m|\u001b[1;32;40m Recovered:  139 \u001b[0m\n",
      "Turkey : \u001b[1;33;40m Confirmed:  1236 \u001b[0m|\u001b[1;35;40m Active:  1206 \u001b[0m|\u001b[0;37;41m Death:  30 \u001b[0m|\u001b[1;32;40m Recovered:  0 \u001b[0m\n",
      "Israel : \u001b[1;33;40m Confirmed:  1238 \u001b[0m|\u001b[1;35;40m Active:  1200 \u001b[0m|\u001b[0;37;41m Death:  1 \u001b[0m|\u001b[1;32;40m Recovered:  37 \u001b[0m\n",
      "Czechia : \u001b[1;33;40m Confirmed:  1165 \u001b[0m|\u001b[1;35;40m Active:  1157 \u001b[0m|\u001b[0;37;41m Death:  1 \u001b[0m|\u001b[1;32;40m Recovered:  7 \u001b[0m\n",
      "Ireland : \u001b[1;33;40m Confirmed:  1125 \u001b[0m|\u001b[1;35;40m Active:  1119 \u001b[0m|\u001b[0;37;41m Death:  6 \u001b[0m|\u001b[1;32;40m Recovered:  0 \u001b[0m\n",
      "Luxembourg : \u001b[1;33;40m Confirmed:  875 \u001b[0m|\u001b[1;35;40m Active:  867 \u001b[0m|\u001b[0;37;41m Death:  8 \u001b[0m|\u001b[1;32;40m Recovered:  0 \u001b[0m\n",
      "Pakistan : \u001b[1;33;40m Confirmed:  875 \u001b[0m|\u001b[1;35;40m Active:  863 \u001b[0m|\u001b[0;37;41m Death:  6 \u001b[0m|\u001b[1;32;40m Recovered:  6 \u001b[0m\n",
      "Japan : \u001b[1;33;40m Confirmed:  1119 \u001b[0m|\u001b[1;35;40m Active:  792 \u001b[0m|\u001b[0;37;41m Death:  42 \u001b[0m|\u001b[1;32;40m Recovered:  285 \u001b[0m\n",
      "Finland : \u001b[1;33;40m Confirmed:  700 \u001b[0m|\u001b[1;35;40m Active:  689 \u001b[0m|\u001b[0;37;41m Death:  1 \u001b[0m|\u001b[1;32;40m Recovered:  10 \u001b[0m\n",
      "Thailand : \u001b[1;33;40m Confirmed:  721 \u001b[0m|\u001b[1;35;40m Active:  668 \u001b[0m|\u001b[0;37;41m Death:  1 \u001b[0m|\u001b[1;32;40m Recovered:  52 \u001b[0m\n",
      "Greece : \u001b[1;33;40m Confirmed:  695 \u001b[0m|\u001b[1;35;40m Active:  659 \u001b[0m|\u001b[0;37;41m Death:  17 \u001b[0m|\u001b[1;32;40m Recovered:  19 \u001b[0m\n",
      "Chile : \u001b[1;33;40m Confirmed:  632 \u001b[0m|\u001b[1;35;40m Active:  622 \u001b[0m|\u001b[0;37;41m Death:  2 \u001b[0m|\u001b[1;32;40m Recovered:  8 \u001b[0m\n",
      "Poland : \u001b[1;33;40m Confirmed:  634 \u001b[0m|\u001b[1;35;40m Active:  614 \u001b[0m|\u001b[0;37;41m Death:  7 \u001b[0m|\u001b[1;32;40m Recovered:  13 \u001b[0m\n",
      "Iceland : \u001b[1;33;40m Confirmed:  588 \u001b[0m|\u001b[1;35;40m Active:  587 \u001b[0m|\u001b[0;37;41m Death:  1 \u001b[0m|\u001b[1;32;40m Recovered:  0 \u001b[0m\n",
      "Indonesia : \u001b[1;33;40m Confirmed:  579 \u001b[0m|\u001b[1;35;40m Active:  521 \u001b[0m|\u001b[0;37;41m Death:  49 \u001b[0m|\u001b[1;32;40m Recovered:  9 \u001b[0m\n",
      "Ecuador : \u001b[1;33;40m Confirmed:  506 \u001b[0m|\u001b[1;35;40m Active:  499 \u001b[0m|\u001b[0;37;41m Death:  7 \u001b[0m|\u001b[1;32;40m Recovered:  0 \u001b[0m\n",
      "Saudi Arabia : \u001b[1;33;40m Confirmed:  511 \u001b[0m|\u001b[1;35;40m Active:  495 \u001b[0m|\u001b[0;37;41m Death:  0 \u001b[0m|\u001b[1;32;40m Recovered:  16 \u001b[0m\n",
      "Qatar : \u001b[1;33;40m Confirmed:  501 \u001b[0m|\u001b[1;35;40m Active:  464 \u001b[0m|\u001b[0;37;41m Death:  0 \u001b[0m|\u001b[1;32;40m Recovered:  37 \u001b[0m\n",
      "India : \u001b[1;33;40m Confirmed:  471 \u001b[0m|\u001b[1;35;40m Active:  440 \u001b[0m|\u001b[0;37;41m Death:  8 \u001b[0m|\u001b[1;32;40m Recovered:  23 \u001b[0m\n",
      "Russian Federation : \u001b[1;33;40m Confirmed:  438 \u001b[0m|\u001b[1;35;40m Active:  420 \u001b[0m|\u001b[0;37;41m Death:  1 \u001b[0m|\u001b[1;32;40m Recovered:  17 \u001b[0m\n",
      "Slovenia : \u001b[1;33;40m Confirmed:  414 \u001b[0m|\u001b[1;35;40m Active:  412 \u001b[0m|\u001b[0;37;41m Death:  2 \u001b[0m|\u001b[1;32;40m Recovered:  0 \u001b[0m\n",
      "Philippines : \u001b[1;33;40m Confirmed:  462 \u001b[0m|\u001b[1;35;40m Active:  411 \u001b[0m|\u001b[0;37;41m Death:  33 \u001b[0m|\u001b[1;32;40m Recovered:  18 \u001b[0m\n",
      "South Africa : \u001b[1;33;40m Confirmed:  402 \u001b[0m|\u001b[1;35;40m Active:  402 \u001b[0m|\u001b[0;37;41m Death:  0 \u001b[0m|\u001b[1;32;40m Recovered:  0 \u001b[0m\n",
      "Peru : \u001b[1;33;40m Confirmed:  363 \u001b[0m|\u001b[1;35;40m Active:  357 \u001b[0m|\u001b[0;37;41m Death:  5 \u001b[0m|\u001b[1;32;40m Recovered:  1 \u001b[0m\n",
      "Singapore : \u001b[1;33;40m Confirmed:  509 \u001b[0m|\u001b[1;35;40m Active:  355 \u001b[0m|\u001b[0;37;41m Death:  2 \u001b[0m|\u001b[1;32;40m Recovered:  152 \u001b[0m\n",
      "Estonia : \u001b[1;33;40m Confirmed:  352 \u001b[0m|\u001b[1;35;40m Active:  352 \u001b[0m|\u001b[0;37;41m Death:  0 \u001b[0m|\u001b[1;32;40m Recovered:  0 \u001b[0m\n",
      "Romania : \u001b[1;33;40m Confirmed:  367 \u001b[0m|\u001b[1;35;40m Active:  335 \u001b[0m|\u001b[0;37;41m Death:  1 \u001b[0m|\u001b[1;32;40m Recovered:  31 \u001b[0m\n",
      "Mexico : \u001b[1;33;40m Confirmed:  316 \u001b[0m|\u001b[1;35;40m Active:  313 \u001b[0m|\u001b[0;37;41m Death:  2 \u001b[0m|\u001b[1;32;40m Recovered:  1 \u001b[0m\n",
      "Panama : \u001b[1;33;40m Confirmed:  313 \u001b[0m|\u001b[1;35;40m Active:  310 \u001b[0m|\u001b[0;37;41m Death:  3 \u001b[0m|\u001b[1;32;40m Recovered:  0 \u001b[0m\n",
      "Croatia : \u001b[1;33;40m Confirmed:  315 \u001b[0m|\u001b[1;35;40m Active:  309 \u001b[0m|\u001b[0;37;41m Death:  1 \u001b[0m|\u001b[1;32;40m Recovered:  5 \u001b[0m\n",
      "Argentina : \u001b[1;33;40m Confirmed:  266 \u001b[0m|\u001b[1;35;40m Active:  261 \u001b[0m|\u001b[0;37;41m Death:  4 \u001b[0m|\u001b[1;32;40m Recovered:  1 \u001b[0m\n",
      "Egypt : \u001b[1;33;40m Confirmed:  327 \u001b[0m|\u001b[1;35;40m Active:  257 \u001b[0m|\u001b[0;37;41m Death:  14 \u001b[0m|\u001b[1;32;40m Recovered:  56 \u001b[0m\n",
      "Lebanon : \u001b[1;33;40m Confirmed:  267 \u001b[0m|\u001b[1;35;40m Active:  255 \u001b[0m|\u001b[0;37;41m Death:  4 \u001b[0m|\u001b[1;32;40m Recovered:  8 \u001b[0m\n",
      "Serbia : \u001b[1;33;40m Confirmed:  249 \u001b[0m|\u001b[1;35;40m Active:  246 \u001b[0m|\u001b[0;37;41m Death:  3 \u001b[0m|\u001b[1;32;40m Recovered:  0 \u001b[0m\n",
      "Colombia : \u001b[1;33;40m Confirmed:  235 \u001b[0m|\u001b[1;35;40m Active:  234 \u001b[0m|\u001b[0;37;41m Death:  1 \u001b[0m|\u001b[1;32;40m Recovered:  0 \u001b[0m\n",
      "Algeria : \u001b[1;33;40m Confirmed:  230 \u001b[0m|\u001b[1;35;40m Active:  201 \u001b[0m|\u001b[0;37;41m Death:  17 \u001b[0m|\u001b[1;32;40m Recovered:  12 \u001b[0m\n",
      "Bulgaria : \u001b[1;33;40m Confirmed:  201 \u001b[0m|\u001b[1;35;40m Active:  195 \u001b[0m|\u001b[0;37;41m Death:  3 \u001b[0m|\u001b[1;32;40m Recovered:  3 \u001b[0m\n",
      "Bahrain : \u001b[1;33;40m Confirmed:  339 \u001b[0m|\u001b[1;35;40m Active:  188 \u001b[0m|\u001b[0;37;41m Death:  2 \u001b[0m|\u001b[1;32;40m Recovered:  149 \u001b[0m\n",
      "Armenia : \u001b[1;33;40m Confirmed:  190 \u001b[0m|\u001b[1;35;40m Active:  188 \u001b[0m|\u001b[0;37;41m Death:  0 \u001b[0m|\u001b[1;32;40m Recovered:  2 \u001b[0m\n",
      "Slovakia : \u001b[1;33;40m Confirmed:  185 \u001b[0m|\u001b[1;35;40m Active:  184 \u001b[0m|\u001b[0;37;41m Death:  1 \u001b[0m|\u001b[1;32;40m Recovered:  0 \u001b[0m\n",
      "Iraq : \u001b[1;33;40m Confirmed:  266 \u001b[0m|\u001b[1;35;40m Active:  181 \u001b[0m|\u001b[0;37;41m Death:  23 \u001b[0m|\u001b[1;32;40m Recovered:  62 \u001b[0m\n",
      "Latvia : \u001b[1;33;40m Confirmed:  180 \u001b[0m|\u001b[1;35;40m Active:  180 \u001b[0m|\u001b[0;37;41m Death:  0 \u001b[0m|\u001b[1;32;40m Recovered:  0 \u001b[0m\n",
      "Kuwait : \u001b[1;33;40m Confirmed:  189 \u001b[0m|\u001b[1;35;40m Active:  159 \u001b[0m|\u001b[0;37;41m Death:  0 \u001b[0m|\u001b[1;32;40m Recovered:  30 \u001b[0m\n",
      "Lithuania : \u001b[1;33;40m Confirmed:  160 \u001b[0m|\u001b[1;35;40m Active:  158 \u001b[0m|\u001b[0;37;41m Death:  1 \u001b[0m|\u001b[1;32;40m Recovered:  1 \u001b[0m\n",
      "Uruguay : \u001b[1;33;40m Confirmed:  158 \u001b[0m|\u001b[1;35;40m Active:  158 \u001b[0m|\u001b[0;37;41m Death:  0 \u001b[0m|\u001b[1;32;40m Recovered:  0 \u001b[0m\n",
      "Hungary : \u001b[1;33;40m Confirmed:  167 \u001b[0m|\u001b[1;35;40m Active:  156 \u001b[0m|\u001b[0;37;41m Death:  4 \u001b[0m|\u001b[1;32;40m Recovered:  7 \u001b[0m\n",
      "United Arab Emirates : \u001b[1;33;40m Confirmed:  198 \u001b[0m|\u001b[1;35;40m Active:  155 \u001b[0m|\u001b[0;37;41m Death:  2 \u001b[0m|\u001b[1;32;40m Recovered:  41 \u001b[0m\n",
      "North Macedonia : \u001b[1;33;40m Confirmed:  136 \u001b[0m|\u001b[1;35;40m Active:  133 \u001b[0m|\u001b[0;37;41m Death:  2 \u001b[0m|\u001b[1;32;40m Recovered:  1 \u001b[0m\n",
      "Costa Rica : \u001b[1;33;40m Confirmed:  134 \u001b[0m|\u001b[1;35;40m Active:  132 \u001b[0m|\u001b[0;37;41m Death:  2 \u001b[0m|\u001b[1;32;40m Recovered:  0 \u001b[0m\n",
      "Andorra : \u001b[1;33;40m Confirmed:  133 \u001b[0m|\u001b[1;35;40m Active:  131 \u001b[0m|\u001b[0;37;41m Death:  1 \u001b[0m|\u001b[1;32;40m Recovered:  1 \u001b[0m\n",
      "San Marino : \u001b[1;33;40m Confirmed:  151 \u001b[0m|\u001b[1;35;40m Active:  129 \u001b[0m|\u001b[0;37;41m Death:  20 \u001b[0m|\u001b[1;32;40m Recovered:  2 \u001b[0m\n",
      "International conveyance (Diamond Princess) : \u001b[1;33;40m Confirmed:  712 \u001b[0m|\u001b[1;35;40m Active:  128 \u001b[0m|\u001b[0;37;41m Death:  10 \u001b[0m|\u001b[1;32;40m Recovered:  574 \u001b[0m\n",
      "Bosnia and Herzegovina : \u001b[1;33;40m Confirmed:  131 \u001b[0m|\u001b[1;35;40m Active:  128 \u001b[0m|\u001b[0;37;41m Death:  1 \u001b[0m|\u001b[1;32;40m Recovered:  2 \u001b[0m\n",
      "Jordan : \u001b[1;33;40m Confirmed:  127 \u001b[0m|\u001b[1;35;40m Active:  126 \u001b[0m|\u001b[0;37;41m Death:  0 \u001b[0m|\u001b[1;32;40m Recovered:  1 \u001b[0m\n",
      "Morocco : \u001b[1;33;40m Confirmed:  122 \u001b[0m|\u001b[1;35;40m Active:  115 \u001b[0m|\u001b[0;37;41m Death:  4 \u001b[0m|\u001b[1;32;40m Recovered:  3 \u001b[0m\n",
      "Cyprus : \u001b[1;33;40m Confirmed:  116 \u001b[0m|\u001b[1;35;40m Active:  115 \u001b[0m|\u001b[0;37;41m Death:  1 \u001b[0m|\u001b[1;32;40m Recovered:  0 \u001b[0m\n",
      "Republic of Moldova : \u001b[1;33;40m Confirmed:  109 \u001b[0m|\u001b[1;35;40m Active:  107 \u001b[0m|\u001b[0;37;41m Death:  1 \u001b[0m|\u001b[1;32;40m Recovered:  1 \u001b[0m\n",
      "Vietnam : \u001b[1;33;40m Confirmed:  123 \u001b[0m|\u001b[1;35;40m Active:  106 \u001b[0m|\u001b[0;37;41m Death:  0 \u001b[0m|\u001b[1;32;40m Recovered:  17 \u001b[0m\n",
      "Albania : \u001b[1;33;40m Confirmed:  104 \u001b[0m|\u001b[1;35;40m Active:  102 \u001b[0m|\u001b[0;37;41m Death:  2 \u001b[0m|\u001b[1;32;40m Recovered:  0 \u001b[0m\n",
      "New Zealand : \u001b[1;33;40m Confirmed:  102 \u001b[0m|\u001b[1;35;40m Active:  102 \u001b[0m|\u001b[0;37;41m Death:  0 \u001b[0m|\u001b[1;32;40m Recovered:  0 \u001b[0m\n",
      "Faroe Islands : \u001b[1;33;40m Confirmed:  92 \u001b[0m|\u001b[1;35;40m Active:  92 \u001b[0m|\u001b[0;37;41m Death:  0 \u001b[0m|\u001b[1;32;40m Recovered:  0 \u001b[0m\n",
      "Sri Lanka : \u001b[1;33;40m Confirmed:  92 \u001b[0m|\u001b[1;35;40m Active:  91 \u001b[0m|\u001b[0;37;41m Death:  0 \u001b[0m|\u001b[1;32;40m Recovered:  1 \u001b[0m\n",
      "Brunei Darussalam : \u001b[1;33;40m Confirmed:  91 \u001b[0m|\u001b[1;35;40m Active:  87 \u001b[0m|\u001b[0;37;41m Death:  0 \u001b[0m|\u001b[1;32;40m Recovered:  4 \u001b[0m\n",
      "Tunisia : \u001b[1;33;40m Confirmed:  89 \u001b[0m|\u001b[1;35;40m Active:  86 \u001b[0m|\u001b[0;37;41m Death:  3 \u001b[0m|\u001b[1;32;40m Recovered:  0 \u001b[0m\n",
      "Cambodia : \u001b[1;33;40m Confirmed:  84 \u001b[0m|\u001b[1;35;40m Active:  82 \u001b[0m|\u001b[0;37;41m Death:  0 \u001b[0m|\u001b[1;32;40m Recovered:  2 \u001b[0m\n",
      "Venezuela : \u001b[1;33;40m Confirmed:  77 \u001b[0m|\u001b[1;35;40m Active:  77 \u001b[0m|\u001b[0;37;41m Death:  0 \u001b[0m|\u001b[1;32;40m Recovered:  0 \u001b[0m\n",
      "Senegal : \u001b[1;33;40m Confirmed:  79 \u001b[0m|\u001b[1;35;40m Active:  74 \u001b[0m|\u001b[0;37;41m Death:  0 \u001b[0m|\u001b[1;32;40m Recovered:  5 \u001b[0m\n",
      "Malta : \u001b[1;33;40m Confirmed:  73 \u001b[0m|\u001b[1;35;40m Active:  73 \u001b[0m|\u001b[0;37;41m Death:  0 \u001b[0m|\u001b[1;32;40m Recovered:  0 \u001b[0m\n",
      "Dominican Republic : \u001b[1;33;40m Confirmed:  72 \u001b[0m|\u001b[1;35;40m Active:  70 \u001b[0m|\u001b[0;37;41m Death:  2 \u001b[0m|\u001b[1;32;40m Recovered:  0 \u001b[0m\n",
      "Ukraine : \u001b[1;33;40m Confirmed:  73 \u001b[0m|\u001b[1;35;40m Active:  69 \u001b[0m|\u001b[0;37;41m Death:  3 \u001b[0m|\u001b[1;32;40m Recovered:  1 \u001b[0m\n",
      "Belarus : \u001b[1;33;40m Confirmed:  89 \u001b[0m|\u001b[1;35;40m Active:  67 \u001b[0m|\u001b[0;37;41m Death:  0 \u001b[0m|\u001b[1;32;40m Recovered:  22 \u001b[0m\n",
      "Burkina Faso : \u001b[1;33;40m Confirmed:  72 \u001b[0m|\u001b[1;35;40m Active:  64 \u001b[0m|\u001b[0;37;41m Death:  3 \u001b[0m|\u001b[1;32;40m Recovered:  5 \u001b[0m\n",
      "Azerbaijan : \u001b[1;33;40m Confirmed:  72 \u001b[0m|\u001b[1;35;40m Active:  61 \u001b[0m|\u001b[0;37;41m Death:  1 \u001b[0m|\u001b[1;32;40m Recovered:  10 \u001b[0m\n",
      "Kazakhstan : \u001b[1;33;40m Confirmed:  60 \u001b[0m|\u001b[1;35;40m Active:  60 \u001b[0m|\u001b[0;37;41m Death:  0 \u001b[0m|\u001b[1;32;40m Recovered:  0 \u001b[0m\n",
      "Georgia : \u001b[1;33;40m Confirmed:  61 \u001b[0m|\u001b[1;35;40m Active:  58 \u001b[0m|\u001b[0;37;41m Death:  0 \u001b[0m|\u001b[1;32;40m Recovered:  3 \u001b[0m\n",
      "Cameroon : \u001b[1;33;40m Confirmed:  56 \u001b[0m|\u001b[1;35;40m Active:  56 \u001b[0m|\u001b[0;37;41m Death:  0 \u001b[0m|\u001b[1;32;40m Recovered:  0 \u001b[0m\n",
      "Guadeloupe : \u001b[1;33;40m Confirmed:  51 \u001b[0m|\u001b[1;35;40m Active:  51 \u001b[0m|\u001b[0;37;41m Death:  0 \u001b[0m|\u001b[1;32;40m Recovered:  0 \u001b[0m\n",
      "Oman : \u001b[1;33;40m Confirmed:  66 \u001b[0m|\u001b[1;35;40m Active:  49 \u001b[0m|\u001b[0;37;41m Death:  0 \u001b[0m|\u001b[1;32;40m Recovered:  17 \u001b[0m\n",
      "Réunion : \u001b[1;33;40m Confirmed:  47 \u001b[0m|\u001b[1;35;40m Active:  47 \u001b[0m|\u001b[0;37;41m Death:  0 \u001b[0m|\u001b[1;32;40m Recovered:  0 \u001b[0m\n",
      "Uzbekstan : \u001b[1;33;40m Confirmed:  43 \u001b[0m|\u001b[1;35;40m Active:  43 \u001b[0m|\u001b[0;37;41m Death:  0 \u001b[0m|\u001b[1;32;40m Recovered:  0 \u001b[0m\n",
      "occupied Palestinian territory : \u001b[1;33;40m Confirmed:  59 \u001b[0m|\u001b[1;35;40m Active:  42 \u001b[0m|\u001b[0;37;41m Death:  0 \u001b[0m|\u001b[1;32;40m Recovered:  17 \u001b[0m\n",
      "Afghanistan : \u001b[1;33;40m Confirmed:  42 \u001b[0m|\u001b[1;35;40m Active:  41 \u001b[0m|\u001b[0;37;41m Death:  1 \u001b[0m|\u001b[1;32;40m Recovered:  0 \u001b[0m\n",
      "Liechtenstein : \u001b[1;33;40m Confirmed:  36 \u001b[0m|\u001b[1;35;40m Active:  36 \u001b[0m|\u001b[0;37;41m Death:  0 \u001b[0m|\u001b[1;32;40m Recovered:  0 \u001b[0m\n",
      "Nigeria : \u001b[1;33;40m Confirmed:  36 \u001b[0m|\u001b[1;35;40m Active:  33 \u001b[0m|\u001b[0;37;41m Death:  1 \u001b[0m|\u001b[1;32;40m Recovered:  2 \u001b[0m\n",
      "Mauritius : \u001b[1;33;40m Confirmed:  36 \u001b[0m|\u001b[1;35;40m Active:  32 \u001b[0m|\u001b[0;37;41m Death:  2 \u001b[0m|\u001b[1;32;40m Recovered:  2 \u001b[0m\n",
      "Martinique : \u001b[1;33;40m Confirmed:  32 \u001b[0m|\u001b[1;35;40m Active:  32 \u001b[0m|\u001b[0;37;41m Death:  0 \u001b[0m|\u001b[1;32;40m Recovered:  0 \u001b[0m\n",
      "Democratic Republic of the Congo : \u001b[1;33;40m Confirmed:  30 \u001b[0m|\u001b[1;35;40m Active:  28 \u001b[0m|\u001b[0;37;41m Death:  2 \u001b[0m|\u001b[1;32;40m Recovered:  0 \u001b[0m\n",
      "Montenegro : \u001b[1;33;40m Confirmed:  27 \u001b[0m|\u001b[1;35;40m Active:  27 \u001b[0m|\u001b[0;37;41m Death:  0 \u001b[0m|\u001b[1;32;40m Recovered:  0 \u001b[0m\n",
      "Cote d Ivoire : \u001b[1;33;40m Confirmed:  25 \u001b[0m|\u001b[1;35;40m Active:  24 \u001b[0m|\u001b[0;37;41m Death:  0 \u001b[0m|\u001b[1;32;40m Recovered:  1 \u001b[0m\n",
      "Honduras : \u001b[1;33;40m Confirmed:  24 \u001b[0m|\u001b[1;35;40m Active:  24 \u001b[0m|\u001b[0;37;41m Death:  0 \u001b[0m|\u001b[1;32;40m Recovered:  0 \u001b[0m\n",
      "Ghana : \u001b[1;33;40m Confirmed:  24 \u001b[0m|\u001b[1;35;40m Active:  23 \u001b[0m|\u001b[0;37;41m Death:  1 \u001b[0m|\u001b[1;32;40m Recovered:  0 \u001b[0m\n",
      "Monaco : \u001b[1;33;40m Confirmed:  23 \u001b[0m|\u001b[1;35;40m Active:  23 \u001b[0m|\u001b[0;37;41m Death:  0 \u001b[0m|\u001b[1;32;40m Recovered:  0 \u001b[0m\n",
      "Paraguay : \u001b[1;33;40m Confirmed:  22 \u001b[0m|\u001b[1;35;40m Active:  21 \u001b[0m|\u001b[0;37;41m Death:  1 \u001b[0m|\u001b[1;32;40m Recovered:  0 \u001b[0m\n",
      "Bangladesh : \u001b[1;33;40m Confirmed:  27 \u001b[0m|\u001b[1;35;40m Active:  20 \u001b[0m|\u001b[0;37;41m Death:  2 \u001b[0m|\u001b[1;32;40m Recovered:  5 \u001b[0m\n",
      "Cuba : \u001b[1;33;40m Confirmed:  21 \u001b[0m|\u001b[1;35;40m Active:  20 \u001b[0m|\u001b[0;37;41m Death:  1 \u001b[0m|\u001b[1;32;40m Recovered:  0 \u001b[0m\n",
      "Puerto Rico : \u001b[1;33;40m Confirmed:  21 \u001b[0m|\u001b[1;35;40m Active:  20 \u001b[0m|\u001b[0;37;41m Death:  1 \u001b[0m|\u001b[1;32;40m Recovered:  0 \u001b[0m\n",
      "Bolivia (Plurinational State of) : \u001b[1;33;40m Confirmed:  19 \u001b[0m|\u001b[1;35;40m Active:  19 \u001b[0m|\u001b[0;37;41m Death:  0 \u001b[0m|\u001b[1;32;40m Recovered:  0 \u001b[0m\n",
      "Guernsey : \u001b[1;33;40m Confirmed:  17 \u001b[0m|\u001b[1;35;40m Active:  17 \u001b[0m|\u001b[0;37;41m Death:  0 \u001b[0m|\u001b[1;32;40m Recovered:  0 \u001b[0m\n",
      "Rwanda : \u001b[1;33;40m Confirmed:  17 \u001b[0m|\u001b[1;35;40m Active:  17 \u001b[0m|\u001b[0;37;41m Death:  0 \u001b[0m|\u001b[1;32;40m Recovered:  0 \u001b[0m\n",
      "Guatemala : \u001b[1;33;40m Confirmed:  17 \u001b[0m|\u001b[1;35;40m Active:  16 \u001b[0m|\u001b[0;37;41m Death:  1 \u001b[0m|\u001b[1;32;40m Recovered:  0 \u001b[0m\n",
      "Kenya : \u001b[1;33;40m Confirmed:  16 \u001b[0m|\u001b[1;35;40m Active:  16 \u001b[0m|\u001b[0;37;41m Death:  0 \u001b[0m|\u001b[1;32;40m Recovered:  0 \u001b[0m\n",
      "Kyrgyzstan : \u001b[1;33;40m Confirmed:  16 \u001b[0m|\u001b[1;35;40m Active:  16 \u001b[0m|\u001b[0;37;41m Death:  0 \u001b[0m|\u001b[1;32;40m Recovered:  0 \u001b[0m\n",
      "Togo : \u001b[1;33;40m Confirmed:  16 \u001b[0m|\u001b[1;35;40m Active:  15 \u001b[0m|\u001b[0;37;41m Death:  0 \u001b[0m|\u001b[1;32;40m Recovered:  1 \u001b[0m\n",
      "Jamaica : \u001b[1;33;40m Confirmed:  16 \u001b[0m|\u001b[1;35;40m Active:  15 \u001b[0m|\u001b[0;37;41m Death:  1 \u001b[0m|\u001b[1;32;40m Recovered:  0 \u001b[0m\n",
      "French Guiana : \u001b[1;33;40m Confirmed:  15 \u001b[0m|\u001b[1;35;40m Active:  15 \u001b[0m|\u001b[0;37;41m Death:  0 \u001b[0m|\u001b[1;32;40m Recovered:  0 \u001b[0m\n",
      "French Polynesia : \u001b[1;33;40m Confirmed:  15 \u001b[0m|\u001b[1;35;40m Active:  15 \u001b[0m|\u001b[0;37;41m Death:  0 \u001b[0m|\u001b[1;32;40m Recovered:  0 \u001b[0m\n",
      "Jersey : \u001b[1;33;40m Confirmed:  15 \u001b[0m|\u001b[1;35;40m Active:  15 \u001b[0m|\u001b[0;37;41m Death:  0 \u001b[0m|\u001b[1;32;40m Recovered:  0 \u001b[0m\n",
      "Guam : \u001b[1;33;40m Confirmed:  15 \u001b[0m|\u001b[1;35;40m Active:  14 \u001b[0m|\u001b[0;37;41m Death:  1 \u001b[0m|\u001b[1;32;40m Recovered:  0 \u001b[0m\n",
      "Maldives : \u001b[1;33;40m Confirmed:  13 \u001b[0m|\u001b[1;35;40m Active:  13 \u001b[0m|\u001b[0;37;41m Death:  0 \u001b[0m|\u001b[1;32;40m Recovered:  0 \u001b[0m\n",
      "Tanzania : \u001b[1;33;40m Confirmed:  12 \u001b[0m|\u001b[1;35;40m Active:  12 \u001b[0m|\u001b[0;37;41m Death:  0 \u001b[0m|\u001b[1;32;40m Recovered:  0 \u001b[0m\n",
      "Mayotte : \u001b[1;33;40m Confirmed:  11 \u001b[0m|\u001b[1;35;40m Active:  11 \u001b[0m|\u001b[0;37;41m Death:  0 \u001b[0m|\u001b[1;32;40m Recovered:  0 \u001b[0m\n",
      "Mongolia : \u001b[1;33;40m Confirmed:  10 \u001b[0m|\u001b[1;35;40m Active:  10 \u001b[0m|\u001b[0;37;41m Death:  0 \u001b[0m|\u001b[1;32;40m Recovered:  0 \u001b[0m\n",
      "Gibraltar : \u001b[1;33;40m Confirmed:  10 \u001b[0m|\u001b[1;35;40m Active:  10 \u001b[0m|\u001b[0;37;41m Death:  0 \u001b[0m|\u001b[1;32;40m Recovered:  0 \u001b[0m\n",
      "Trinidad & Tobago : \u001b[1;33;40m Confirmed:  9 \u001b[0m|\u001b[1;35;40m Active:  9 \u001b[0m|\u001b[0;37;41m Death:  0 \u001b[0m|\u001b[1;32;40m Recovered:  0 \u001b[0m\n",
      "Eq.Guinea : \u001b[1;33;40m Confirmed:  9 \u001b[0m|\u001b[1;35;40m Active:  9 \u001b[0m|\u001b[0;37;41m Death:  0 \u001b[0m|\u001b[1;32;40m Recovered:  0 \u001b[0m\n",
      "Ethiopia : \u001b[1;33;40m Confirmed:  11 \u001b[0m|\u001b[1;35;40m Active:  7 \u001b[0m|\u001b[0;37;41m Death:  0 \u001b[0m|\u001b[1;32;40m Recovered:  4 \u001b[0m\n",
      "Seychelles : \u001b[1;33;40m Confirmed:  7 \u001b[0m|\u001b[1;35;40m Active:  7 \u001b[0m|\u001b[0;37;41m Death:  0 \u001b[0m|\u001b[1;32;40m Recovered:  0 \u001b[0m\n",
      "United States Virgin Islands : \u001b[1;33;40m Confirmed:  6 \u001b[0m|\u001b[1;35;40m Active:  6 \u001b[0m|\u001b[0;37;41m Death:  0 \u001b[0m|\u001b[1;32;40m Recovered:  0 \u001b[0m\n",
      "Suriname : \u001b[1;33;40m Confirmed:  5 \u001b[0m|\u001b[1;35;40m Active:  5 \u001b[0m|\u001b[0;37;41m Death:  0 \u001b[0m|\u001b[1;32;40m Recovered:  0 \u001b[0m\n",
      "Aruba : \u001b[1;33;40m Confirmed:  5 \u001b[0m|\u001b[1;35;40m Active:  5 \u001b[0m|\u001b[0;37;41m Death:  0 \u001b[0m|\u001b[1;32;40m Recovered:  0 \u001b[0m\n",
      "Barbados : \u001b[1;33;40m Confirmed:  5 \u001b[0m|\u001b[1;35;40m Active:  5 \u001b[0m|\u001b[0;37;41m Death:  0 \u001b[0m|\u001b[1;32;40m Recovered:  0 \u001b[0m\n",
      "Guyana : \u001b[1;33;40m Confirmed:  5 \u001b[0m|\u001b[1;35;40m Active:  4 \u001b[0m|\u001b[0;37;41m Death:  1 \u001b[0m|\u001b[1;32;40m Recovered:  0 \u001b[0m\n",
      "Gabon : \u001b[1;33;40m Confirmed:  5 \u001b[0m|\u001b[1;35;40m Active:  4 \u001b[0m|\u001b[0;37;41m Death:  1 \u001b[0m|\u001b[1;32;40m Recovered:  0 \u001b[0m\n"
     ]
    },
    {
     "name": "stdout",
     "output_type": "stream",
     "text": [
      "Saint Martin : \u001b[1;33;40m Confirmed:  4 \u001b[0m|\u001b[1;35;40m Active:  4 \u001b[0m|\u001b[0;37;41m Death:  0 \u001b[0m|\u001b[1;32;40m Recovered:  0 \u001b[0m\n",
      "Swaziland : \u001b[1;33;40m Confirmed:  4 \u001b[0m|\u001b[1;35;40m Active:  4 \u001b[0m|\u001b[0;37;41m Death:  0 \u001b[0m|\u001b[1;32;40m Recovered:  0 \u001b[0m\n",
      "Bahamas : \u001b[1;33;40m Confirmed:  4 \u001b[0m|\u001b[1;35;40m Active:  4 \u001b[0m|\u001b[0;37;41m Death:  0 \u001b[0m|\u001b[1;32;40m Recovered:  0 \u001b[0m\n",
      "Congo : \u001b[1;33;40m Confirmed:  4 \u001b[0m|\u001b[1;35;40m Active:  4 \u001b[0m|\u001b[0;37;41m Death:  0 \u001b[0m|\u001b[1;32;40m Recovered:  0 \u001b[0m\n",
      "New Caledonia : \u001b[1;33;40m Confirmed:  4 \u001b[0m|\u001b[1;35;40m Active:  4 \u001b[0m|\u001b[0;37;41m Death:  0 \u001b[0m|\u001b[1;32;40m Recovered:  0 \u001b[0m\n",
      "Namibia : \u001b[1;33;40m Confirmed:  3 \u001b[0m|\u001b[1;35;40m Active:  3 \u001b[0m|\u001b[0;37;41m Death:  0 \u001b[0m|\u001b[1;32;40m Recovered:  0 \u001b[0m\n",
      "Central African Republic : \u001b[1;33;40m Confirmed:  3 \u001b[0m|\u001b[1;35;40m Active:  3 \u001b[0m|\u001b[0;37;41m Death:  0 \u001b[0m|\u001b[1;32;40m Recovered:  0 \u001b[0m\n",
      "Saint Barthelemy : \u001b[1;33;40m Confirmed:  3 \u001b[0m|\u001b[1;35;40m Active:  3 \u001b[0m|\u001b[0;37;41m Death:  0 \u001b[0m|\u001b[1;32;40m Recovered:  0 \u001b[0m\n",
      "Liberia : \u001b[1;33;40m Confirmed:  3 \u001b[0m|\u001b[1;35;40m Active:  3 \u001b[0m|\u001b[0;37;41m Death:  0 \u001b[0m|\u001b[1;32;40m Recovered:  0 \u001b[0m\n",
      "The Republic of Zambia : \u001b[1;33;40m Confirmed:  3 \u001b[0m|\u001b[1;35;40m Active:  3 \u001b[0m|\u001b[0;37;41m Death:  0 \u001b[0m|\u001b[1;32;40m Recovered:  0 \u001b[0m\n",
      "Madagascar : \u001b[1;33;40m Confirmed:  3 \u001b[0m|\u001b[1;35;40m Active:  3 \u001b[0m|\u001b[0;37;41m Death:  0 \u001b[0m|\u001b[1;32;40m Recovered:  0 \u001b[0m\n",
      "Angola : \u001b[1;33;40m Confirmed:  3 \u001b[0m|\u001b[1;35;40m Active:  3 \u001b[0m|\u001b[0;37;41m Death:  0 \u001b[0m|\u001b[1;32;40m Recovered:  0 \u001b[0m\n",
      "Cabo Verde : \u001b[1;33;40m Confirmed:  3 \u001b[0m|\u001b[1;35;40m Active:  3 \u001b[0m|\u001b[0;37;41m Death:  0 \u001b[0m|\u001b[1;32;40m Recovered:  0 \u001b[0m\n",
      "Cayman Islands : \u001b[1;33;40m Confirmed:  3 \u001b[0m|\u001b[1;35;40m Active:  2 \u001b[0m|\u001b[0;37;41m Death:  1 \u001b[0m|\u001b[1;32;40m Recovered:  0 \u001b[0m\n",
      "Curaçao : \u001b[1;33;40m Confirmed:  3 \u001b[0m|\u001b[1;35;40m Active:  2 \u001b[0m|\u001b[0;37;41m Death:  1 \u001b[0m|\u001b[1;32;40m Recovered:  0 \u001b[0m\n",
      "Bhutan : \u001b[1;33;40m Confirmed:  2 \u001b[0m|\u001b[1;35;40m Active:  2 \u001b[0m|\u001b[0;37;41m Death:  0 \u001b[0m|\u001b[1;32;40m Recovered:  0 \u001b[0m\n",
      "Guinea : \u001b[1;33;40m Confirmed:  2 \u001b[0m|\u001b[1;35;40m Active:  2 \u001b[0m|\u001b[0;37;41m Death:  0 \u001b[0m|\u001b[1;32;40m Recovered:  0 \u001b[0m\n",
      "Mauritania : \u001b[1;33;40m Confirmed:  2 \u001b[0m|\u001b[1;35;40m Active:  2 \u001b[0m|\u001b[0;37;41m Death:  0 \u001b[0m|\u001b[1;32;40m Recovered:  0 \u001b[0m\n",
      "Greenland : \u001b[1;33;40m Confirmed:  2 \u001b[0m|\u001b[1;35;40m Active:  2 \u001b[0m|\u001b[0;37;41m Death:  0 \u001b[0m|\u001b[1;32;40m Recovered:  0 \u001b[0m\n",
      "Saint Lucia : \u001b[1;33;40m Confirmed:  2 \u001b[0m|\u001b[1;35;40m Active:  2 \u001b[0m|\u001b[0;37;41m Death:  0 \u001b[0m|\u001b[1;32;40m Recovered:  0 \u001b[0m\n",
      "Benin : \u001b[1;33;40m Confirmed:  2 \u001b[0m|\u001b[1;35;40m Active:  2 \u001b[0m|\u001b[0;37;41m Death:  0 \u001b[0m|\u001b[1;32;40m Recovered:  0 \u001b[0m\n",
      "Nicaragua : \u001b[1;33;40m Confirmed:  2 \u001b[0m|\u001b[1;35;40m Active:  2 \u001b[0m|\u001b[0;37;41m Death:  0 \u001b[0m|\u001b[1;32;40m Recovered:  0 \u001b[0m\n",
      "The Republic of Fiji : \u001b[1;33;40m Confirmed:  2 \u001b[0m|\u001b[1;35;40m Active:  2 \u001b[0m|\u001b[0;37;41m Death:  0 \u001b[0m|\u001b[1;32;40m Recovered:  0 \u001b[0m\n",
      "Niger : \u001b[1;33;40m Confirmed:  2 \u001b[0m|\u001b[1;35;40m Active:  2 \u001b[0m|\u001b[0;37;41m Death:  0 \u001b[0m|\u001b[1;32;40m Recovered:  0 \u001b[0m\n",
      "Isle of Man : \u001b[1;33;40m Confirmed:  2 \u001b[0m|\u001b[1;35;40m Active:  2 \u001b[0m|\u001b[0;37;41m Death:  0 \u001b[0m|\u001b[1;32;40m Recovered:  0 \u001b[0m\n",
      "Bermuda : \u001b[1;33;40m Confirmed:  2 \u001b[0m|\u001b[1;35;40m Active:  2 \u001b[0m|\u001b[0;37;41m Death:  0 \u001b[0m|\u001b[1;32;40m Recovered:  0 \u001b[0m\n",
      "The Republic of Haiti : \u001b[1;33;40m Confirmed:  2 \u001b[0m|\u001b[1;35;40m Active:  2 \u001b[0m|\u001b[0;37;41m Death:  0 \u001b[0m|\u001b[1;32;40m Recovered:  0 \u001b[0m\n",
      "Myanmar : \u001b[1;33;40m Confirmed:  2 \u001b[0m|\u001b[1;35;40m Active:  2 \u001b[0m|\u001b[0;37;41m Death:  0 \u001b[0m|\u001b[1;32;40m Recovered:  0 \u001b[0m\n",
      "Nepal : \u001b[1;33;40m Confirmed:  2 \u001b[0m|\u001b[1;35;40m Active:  1 \u001b[0m|\u001b[0;37;41m Death:  0 \u001b[0m|\u001b[1;32;40m Recovered:  1 \u001b[0m\n",
      "Sudan : \u001b[1;33;40m Confirmed:  2 \u001b[0m|\u001b[1;35;40m Active:  1 \u001b[0m|\u001b[0;37;41m Death:  1 \u001b[0m|\u001b[1;32;40m Recovered:  0 \u001b[0m\n",
      "Zimbabwe : \u001b[1;33;40m Confirmed:  2 \u001b[0m|\u001b[1;35;40m Active:  1 \u001b[0m|\u001b[0;37;41m Death:  1 \u001b[0m|\u001b[1;32;40m Recovered:  0 \u001b[0m\n",
      "Holy See : \u001b[1;33;40m Confirmed:  1 \u001b[0m|\u001b[1;35;40m Active:  1 \u001b[0m|\u001b[0;37;41m Death:  0 \u001b[0m|\u001b[1;32;40m Recovered:  0 \u001b[0m\n",
      "Saint Vincent and the Grenadines : \u001b[1;33;40m Confirmed:  1 \u001b[0m|\u001b[1;35;40m Active:  1 \u001b[0m|\u001b[0;37;41m Death:  0 \u001b[0m|\u001b[1;32;40m Recovered:  0 \u001b[0m\n",
      "Antigua & Barbuda : \u001b[1;33;40m Confirmed:  1 \u001b[0m|\u001b[1;35;40m Active:  1 \u001b[0m|\u001b[0;37;41m Death:  0 \u001b[0m|\u001b[1;32;40m Recovered:  0 \u001b[0m\n",
      "Gambia : \u001b[1;33;40m Confirmed:  1 \u001b[0m|\u001b[1;35;40m Active:  1 \u001b[0m|\u001b[0;37;41m Death:  0 \u001b[0m|\u001b[1;32;40m Recovered:  0 \u001b[0m\n",
      "Somalia : \u001b[1;33;40m Confirmed:  1 \u001b[0m|\u001b[1;35;40m Active:  1 \u001b[0m|\u001b[0;37;41m Death:  0 \u001b[0m|\u001b[1;32;40m Recovered:  0 \u001b[0m\n",
      "The Republic of El Salvador : \u001b[1;33;40m Confirmed:  1 \u001b[0m|\u001b[1;35;40m Active:  1 \u001b[0m|\u001b[0;37;41m Death:  0 \u001b[0m|\u001b[1;32;40m Recovered:  0 \u001b[0m\n",
      "The Republic of Djibouti : \u001b[1;33;40m Confirmed:  1 \u001b[0m|\u001b[1;35;40m Active:  1 \u001b[0m|\u001b[0;37;41m Death:  0 \u001b[0m|\u001b[1;32;40m Recovered:  0 \u001b[0m\n",
      "Chad : \u001b[1;33;40m Confirmed:  1 \u001b[0m|\u001b[1;35;40m Active:  1 \u001b[0m|\u001b[0;37;41m Death:  0 \u001b[0m|\u001b[1;32;40m Recovered:  0 \u001b[0m\n",
      "Tinor-Leste : \u001b[1;33;40m Confirmed:  1 \u001b[0m|\u001b[1;35;40m Active:  1 \u001b[0m|\u001b[0;37;41m Death:  0 \u001b[0m|\u001b[1;32;40m Recovered:  0 \u001b[0m\n",
      "Uganda : \u001b[1;33;40m Confirmed:  1 \u001b[0m|\u001b[1;35;40m Active:  1 \u001b[0m|\u001b[0;37;41m Death:  0 \u001b[0m|\u001b[1;32;40m Recovered:  0 \u001b[0m\n",
      "Papua New Guinea : \u001b[1;33;40m Confirmed:  1 \u001b[0m|\u001b[1;35;40m Active:  1 \u001b[0m|\u001b[0;37;41m Death:  0 \u001b[0m|\u001b[1;32;40m Recovered:  0 \u001b[0m\n",
      "Eritrea : \u001b[1;33;40m Confirmed:  1 \u001b[0m|\u001b[1;35;40m Active:  1 \u001b[0m|\u001b[0;37;41m Death:  0 \u001b[0m|\u001b[1;32;40m Recovered:  0 \u001b[0m\n",
      "Mozambique : \u001b[1;33;40m Confirmed:  1 \u001b[0m|\u001b[1;35;40m Active:  1 \u001b[0m|\u001b[0;37;41m Death:  0 \u001b[0m|\u001b[1;32;40m Recovered:  0 \u001b[0m\n",
      "Montserrat : \u001b[1;33;40m Confirmed:  1 \u001b[0m|\u001b[1;35;40m Active:  1 \u001b[0m|\u001b[0;37;41m Death:  0 \u001b[0m|\u001b[1;32;40m Recovered:  0 \u001b[0m\n",
      "Syrian Arab Republic : \u001b[1;33;40m Confirmed:  1 \u001b[0m|\u001b[1;35;40m Active:  1 \u001b[0m|\u001b[0;37;41m Death:  0 \u001b[0m|\u001b[1;32;40m Recovered:  0 \u001b[0m\n"
     ]
    }
   ],
   "source": [
    "for ByCountrys in ByCountry:\n",
    "    print(ByCountrys[\"countryFullName\"], \": \\033[1;33;40m Confirmed: \", ByCountrys['confirmedCount'], \"\\033[0m|\\033[1;35;40m Active: \", ByCountrys['currentConfirmedCount'], \"\\033[0m|\\033[0;37;41m Death: \", ByCountrys['deadCount'], \"\\033[0m|\\033[1;32;40m Recovered: \", ByCountrys['curedCount'], \"\\033[0m\")"
   ]
  },
  {
   "cell_type": "code",
   "execution_count": 9,
   "metadata": {},
   "outputs": [],
   "source": [
    "def searchByCountry(country):\n",
    "    for ByCountrys in ByCountry:\n",
    "        if(ByCountrys[\"countryFullName\"] == country):\n",
    "            print(ByCountrys[\"countryFullName\"], \": \\033[1;33;40m Confirmed: \", ByCountrys['confirmedCount'], \"\\033[0m|\\033[1;35;40m Active: \", ByCountrys['currentConfirmedCount'], \"\\033[0m|\\033[0;37;41m Black Death: \", ByCountrys['deadCount'], \"\\033[0m|\\033[1;32;40m Recovered: \", ByCountrys['curedCount'], \"\\033[0m\")\n",
    "            return 0\n",
    "    print(\"Country Name Wrong!\")"
   ]
  },
  {
   "cell_type": "code",
   "execution_count": 10,
   "metadata": {},
   "outputs": [
    {
     "name": "stdout",
     "output_type": "stream",
     "text": [
      "Country Name: India\n",
      "India : \u001b[1;33;40m Confirmed:  471 \u001b[0m|\u001b[1;35;40m Active:  440 \u001b[0m|\u001b[0;37;41m Black Death:  8 \u001b[0m|\u001b[1;32;40m Recovered:  23 \u001b[0m\n"
     ]
    },
    {
     "data": {
      "text/plain": [
       "0"
      ]
     },
     "execution_count": 10,
     "metadata": {},
     "output_type": "execute_result"
    }
   ],
   "source": [
    "searchByCountry(input(\"Country Name: \"))"
   ]
  },
  {
   "cell_type": "code",
   "execution_count": null,
   "metadata": {},
   "outputs": [],
   "source": [
    "ByCountry[0]"
   ]
  },
  {
   "cell_type": "code",
   "execution_count": null,
   "metadata": {},
   "outputs": [],
   "source": [
    "from IPython.display import Image\n",
    "imgsrc = \"https://img1.dxycdn.com/2020/0319/685/3402856849412997239-135.png\"\n",
    "Image(filename='example.png')\n"
   ]
  },
  {
   "cell_type": "code",
   "execution_count": null,
   "metadata": {},
   "outputs": [],
   "source": []
  }
 ],
 "metadata": {
  "kernelspec": {
   "display_name": "Python 3",
   "language": "python",
   "name": "python3"
  },
  "language_info": {
   "codemirror_mode": {
    "name": "ipython",
    "version": 3
   },
   "file_extension": ".py",
   "mimetype": "text/x-python",
   "name": "python",
   "nbconvert_exporter": "python",
   "pygments_lexer": "ipython3",
   "version": "3.6.8"
  }
 },
 "nbformat": 4,
 "nbformat_minor": 2
}
